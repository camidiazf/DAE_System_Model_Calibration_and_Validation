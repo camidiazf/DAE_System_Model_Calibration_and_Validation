{
 "cells": [
  {
   "cell_type": "markdown",
   "id": "bd2454f0",
   "metadata": {},
   "source": [
    "# MAIN NOTEBOOK"
   ]
  },
  {
   "cell_type": "markdown",
   "id": "5940a9f3",
   "metadata": {},
   "source": [
    "\n",
    "Main script to run the DAE system simulation and analysis for Mycobacterium smegmatis model calibration and validation.\n",
    "\n",
    "If you want to visualize the optimization prints, go to `RUN_functions.py` and follow the instructions on line 24."
   ]
  },
  {
   "cell_type": "markdown",
   "id": "665ef363",
   "metadata": {},
   "source": [
    "## File editing"
   ]
  },
  {
   "cell_type": "markdown",
   "id": "c7177108",
   "metadata": {},
   "source": [
    "Two `.py` files must be modified or edited in order to calibrate and analyse your model.\n",
    "\n",
    "1) `DAE_System_Simulations.py` : Define your DAE system in the file DAE_System_Simulations.py. This file should contain the necessary functions and classes to simulate your DAE system.\n",
    "\n",
    "2) `System_info.py` : Complete the System_info.py with yur system conditions, initial values, experimental data, etc, as the original file establishes"
   ]
  },
  {
   "cell_type": "markdown",
   "id": "ffd29e14",
   "metadata": {},
   "source": [
    "## Libraries"
   ]
  },
  {
   "cell_type": "code",
   "execution_count": null,
   "id": "ad85172a",
   "metadata": {},
   "outputs": [],
   "source": [
    "import os\n",
    "import numpy as np\n",
    "from System_info import system_info as system_data\n",
    "from RUN_functions import RUN_PARAMETERS_ITERATIONS"
   ]
  },
  {
   "cell_type": "markdown",
   "id": "7e462f3f",
   "metadata": {},
   "source": [
    "## Parameter Calibration and Analysis"
   ]
  },
  {
   "cell_type": "code",
   "execution_count": null,
   "id": "c359863e",
   "metadata": {},
   "outputs": [],
   "source": [
    "# INPUTS\n",
    "\n",
    "folder = 'Excel_Results'                # Specify the folder where the Excel file is located (Suggested: 'Excel_Results' or similar)\n",
    "file_name = 'Testing_V.xlsx'           # Specify the name of the Excel file \n",
    "path = os.path.join(os.getcwd(), folder, \n",
    "                    file_name)\n",
    "\n",
    "params_list = ['YX_C', 'pH_UL', 'YX_N']     # List of parameters to be calibrated\n",
    "lb_base = [0.2, 6, 5]                       # Lower bounds for the parameters\n",
    "ub_base = [0.4, 7, 7]                       # Upper bounds for the parameters\n",
    "variation = [0.1, 0.5, 1]                   # Variation for the parameters\n",
    "n = 2                                       # Number of iterations per combination of parameters and bounds"
   ]
  },
  {
   "cell_type": "code",
   "execution_count": null,
   "id": "b49d331f",
   "metadata": {},
   "outputs": [],
   "source": [
    "# DO NOT MODIFY THE FOLLOWING CODE\n",
    "\n",
    "# Create a dictionary with parameter ranges\n",
    "param_ranges = {\n",
    "    name: list(np.arange(lb, ub + var/2, var))\n",
    "    for name, lb, ub, var in zip(params_list, lb_base, ub_base, variation)\n",
    "}"
   ]
  },
  {
   "cell_type": "code",
   "execution_count": null,
   "id": "9dc6df71",
   "metadata": {},
   "outputs": [],
   "source": [
    "# DO NOT MODIFY THE FOLLOWING CODE\n",
    "\n",
    "# Run the main function\n",
    "RUN_PARAMETERS_ITERATIONS(n = n,\n",
    "                        path= path,\n",
    "                        params_list = params_list,\n",
    "                        param_ranges = param_ranges)"
   ]
  },
  {
   "cell_type": "markdown",
   "id": "1a736319",
   "metadata": {},
   "source": [
    "## * How to run a single scenario"
   ]
  },
  {
   "cell_type": "code",
   "execution_count": null,
   "id": "679517a1",
   "metadata": {},
   "outputs": [],
   "source": [
    "# Utilize RUN_ANALYSIS function\n",
    "from RUN_functions import RUN_ANALYSIS\n",
    "\n",
    "# Re-define the system data parameters_og\n",
    "# Consider n as the new value of the parameter 'k'\n",
    "parameters_to_test = system_data['parameters_og'].copy()\n",
    "parameters_to_test['k'] = n\n",
    "\n",
    "# Re-define parameters_list to those testing\n",
    "params_list = []\n",
    "\n",
    "# Run the analysis function\n",
    "Results = RUN_ANALYSIS(iteration=1,\n",
    "                        parameters=parameters_to_test,\n",
    "                        params_list=params_list)\n"
   ]
  }
 ],
 "metadata": {
  "kernelspec": {
   "display_name": "base",
   "language": "python",
   "name": "python3"
  },
  "language_info": {
   "codemirror_mode": {
    "name": "ipython",
    "version": 3
   },
   "file_extension": ".py",
   "mimetype": "text/x-python",
   "name": "python",
   "nbconvert_exporter": "python",
   "pygments_lexer": "ipython3",
   "version": "3.12.8"
  }
 },
 "nbformat": 4,
 "nbformat_minor": 5
}
