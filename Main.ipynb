{
 "cells": [
  {
   "cell_type": "markdown",
   "id": "bd2454f0",
   "metadata": {},
   "source": [
    "# MAIN NOTEBOOK"
   ]
  },
  {
   "cell_type": "markdown",
   "id": "5940a9f3",
   "metadata": {},
   "source": [
    "\n",
    "Main script to run the DAE system simulation and analysis for Mycobacterium smegmatis model calibration and validation.\n",
    "\n",
    "If you want to visualize the optimization prints, go to `RUN_functions.py` and follow the instructions on line 24."
   ]
  },
  {
   "cell_type": "markdown",
   "id": "665ef363",
   "metadata": {},
   "source": [
    "## File editing"
   ]
  },
  {
   "cell_type": "markdown",
   "id": "c7177108",
   "metadata": {},
   "source": [
    "Two `.py` files must be modified or edited in order to calibrate and analyse your model.\n",
    "\n",
    "1) `DAE_System_Simulations.py` : Define your DAE system in the file DAE_System_Simulations.py. This file should contain the necessary functions and classes to simulate your DAE system.\n",
    "\n",
    "2) `System_info.py` : Complete the System_info.py with yur system conditions, initial values, experimental data, etc, as the original file establishes"
   ]
  },
  {
   "cell_type": "markdown",
   "id": "ffd29e14",
   "metadata": {},
   "source": [
    "## Libraries"
   ]
  },
  {
   "cell_type": "code",
   "execution_count": null,
   "id": "ad85172a",
   "metadata": {},
   "outputs": [],
   "source": [
    "import os\n",
    "import numpy as np\n",
    "from System_info import system_info as system_data\n",
    "from RUN_functions import RUN_PARAMETERS_ITERATIONS"
   ]
  },
  {
   "cell_type": "markdown",
   "id": "7e462f3f",
   "metadata": {},
   "source": [
    "## Parameter Calibration and Analysis"
   ]
  },
  {
   "cell_type": "code",
   "execution_count": null,
   "id": "a8e3c1ba",
   "metadata": {},
   "outputs": [],
   "source": [
    "# INPUTS\n",
    "\n",
    "folder = 'Results'                # Specify the folder where the Excel file is located (Suggested: 'Excel_Results' or similar)\n",
    "file_name = '.xlsx'               # Specify the name of the Excel file \n",
    "path = os.path.join(os.getcwd(), folder, \n",
    "                    file_name)\n",
    "\n",
    "params_list = ['YX_C', 'pH_UL', 'YX_N']     # List of parameters to be calibrated\n",
    "lb = [0.2, 6, 5]                            # Lower bounds for the parameters\n",
    "ub = [0.4, 7, 7]                            # Upper bounds for the parameters\n",
    "\n",
    "results = RUN_PARAMETERS_ITERATIONS(iterations, path, params_list, lb, ub)"
   ]
  }
 ],
 "metadata": {
  "kernelspec": {
   "display_name": "base",
   "language": "python",
   "name": "python3"
  },
  "language_info": {
   "codemirror_mode": {
    "name": "ipython",
    "version": 3
   },
   "file_extension": ".py",
   "mimetype": "text/x-python",
   "name": "python",
   "nbconvert_exporter": "python",
   "pygments_lexer": "ipython3",
   "version": "3.12.8"
  }
 },
 "nbformat": 4,
 "nbformat_minor": 5
}
