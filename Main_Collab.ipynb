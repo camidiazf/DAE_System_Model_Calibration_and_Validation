{
  "cells": [
    {
      "cell_type": "markdown",
      "metadata": {
        "id": "rGhSucLwDqZE"
      },
      "source": [
        "## MAIN NOTEBOOK | COLLAB Version\n",
        "\n",
        "Main script to run the DAE system simulation and analysis for Mycobacterium smegmatis model calibration and validation.\n",
        "\n",
        "\n",
        "This is the `Collab Version`."
      ]
    },
    {
      "cell_type": "markdown",
      "metadata": {
        "id": "zn1B-iH3DttV"
      },
      "source": [
        "- Accesing GitHub\n",
        "- Installing necessary packages\n",
        "- Importing libraries"
      ]
    },
    {
      "cell_type": "code",
      "execution_count": null,
      "metadata": {
        "colab": {
          "base_uri": "https://localhost:8080/"
        },
        "id": "Y4mcY978BieI",
        "outputId": "fc21444a-121a-4b89-c82f-e068940d1330"
      },
      "outputs": [
        {
          "name": "stdout",
          "output_type": "stream",
          "text": [
            "Cloning into 'Mycobacterium-smegmatis-model-calibration-and-validation'...\n",
            "remote: Enumerating objects: 22, done.\u001b[K\n",
            "remote: Counting objects: 100% (22/22), done.\u001b[K\n",
            "remote: Compressing objects: 100% (16/16), done.\u001b[K\n",
            "remote: Total 22 (delta 6), reused 22 (delta 6), pack-reused 0 (from 0)\u001b[K\n",
            "Receiving objects: 100% (22/22), 8.15 MiB | 20.67 MiB/s, done.\n",
            "Resolving deltas: 100% (6/6), done.\n",
            "/content/Mycobacterium-smegmatis-model-calibration-and-validation/Mycobacterium-smegmatis-model-calibration-and-validation/Mycobacterium-smegmatis-model-calibration-and-validation/Mycobacterium-smegmatis-model-calibration-and-validation\n",
            "\u001b[2K     \u001b[90m━━━━━━━━━━━━━━━━━━━━━━━━━━━━━━━━━━━━━━━\u001b[0m \u001b[32m149.1/149.1 kB\u001b[0m \u001b[31m3.6 MB/s\u001b[0m eta \u001b[36m0:00:00\u001b[0m\n",
            "\u001b[2K   \u001b[90m━━━━━━━━━━━━━━━━━━━━━━━━━━━━━━━━━━━━━━━━\u001b[0m \u001b[32m397.9/397.9 kB\u001b[0m \u001b[31m15.4 MB/s\u001b[0m eta \u001b[36m0:00:00\u001b[0m\n",
            "\u001b[2K   \u001b[90m━━━━━━━━━━━━━━━━━━━━━━━━━━━━━━━━━━━━━━━━\u001b[0m \u001b[32m13.0/13.0 MB\u001b[0m \u001b[31m61.7 MB/s\u001b[0m eta \u001b[36m0:00:00\u001b[0m\n",
            "\u001b[?25hCasADi 3.7.0 pandas 2.2.2 numpy 2.0.2\n"
          ]
        }
      ],
      "source": [
        "# 1.- Clone the GitHub repo (or pull latest if re-running)\n",
        "!git clone https://github.com/camidiazf/DAE_System_Model_Calibration_and_Validation.git\n",
        "%cd DAE_System_Model_Calibration_and_Validation\n",
        "\n",
        "# 2.- Make sure Python can see your modules\n",
        "import sys, os\n",
        "sys.path.append(os.getcwd())\n",
        "\n",
        "# 3.- Now you can import and run exactly as in Main.ipynb\n",
        "from System_info import system_info as system_data #type: ignore\n",
        "from RUN_functions import RUN_PARAMETERS_ITERATIONS #type: ignore\n",
        "\n",
        "# 4.- Print versions to verify\n",
        "import numpy as np #type: ignore\n",
        "print(\"numpy\", np.__version__)\n"
      ]
    },
    {
      "cell_type": "code",
      "execution_count": null,
      "metadata": {},
      "outputs": [],
      "source": [
        "# 5.- Create output directories\n",
        "!mkdir -p Excel_Results"
      ]
    },
    {
      "cell_type": "markdown",
      "metadata": {},
      "source": [
        "## File editing"
      ]
    },
    {
      "cell_type": "markdown",
      "metadata": {},
      "source": [
        "Two `.py` files must be modified or edited in order to calibrate and analyse your model.\n",
        "\n",
        "1) `DAE_System_Simulations.py` : Define your DAE system in the file DAE_System_Simulations.py. This file should contain the necessary functions and classes to simulate your DAE system.\n",
        "\n",
        "2) `System_info.py` : Complete the System_info.py with yur system conditions, initial values, experimental data, etc, as the original file establishes"
      ]
    },
    {
      "cell_type": "markdown",
      "metadata": {},
      "source": [
        "## Parameter Calibration and Analysis"
      ]
    },
    {
      "cell_type": "code",
      "execution_count": null,
      "metadata": {},
      "outputs": [],
      "source": [
        "iterations = 10                  # Number of iterations per combination of parameters and bounds"
      ]
    },
    {
      "cell_type": "code",
      "execution_count": null,
      "metadata": {},
      "outputs": [],
      "source": [
        "# INPUTS\n",
        "\n",
        "folder = 'Results'                # Specify the folder where the Excel file is located (Suggested: 'Excel_Results' or similar)\n",
        "file_name = '.xlsx'               # Specify the name of the Excel file \n",
        "path = os.path.join(os.getcwd(), folder, \n",
        "                    file_name)\n",
        "\n",
        "params_list = ['YX_C', 'pH_UL', 'YX_N']     # List of parameters to be calibrated\n",
        "lb = [0.2, 6, 5]                            # Lower bounds for the parameters\n",
        "ub = [0.4, 7, 7]                            # Upper bounds for the parameters\n",
        "\n",
        "results = RUN_PARAMETERS_ITERATIONS(iterations, path, params_list, lb, ub)"
      ]
    }
  ],
  "metadata": {
    "colab": {
      "provenance": []
    },
    "kernelspec": {
      "display_name": "Python 3",
      "name": "python3"
    },
    "language_info": {
      "name": "python"
    }
  },
  "nbformat": 4,
  "nbformat_minor": 0
}
